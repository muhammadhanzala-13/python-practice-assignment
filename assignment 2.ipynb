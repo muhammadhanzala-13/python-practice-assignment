{
 "cells": [
  {
   "cell_Type": "markdown",
   "id": "8b2adc15-3e4d-48ea-ab76-dd5a20da788a",
   "metadata": {},
   "source": [
    "## learn how to take user inputs:\n"
   ]
  },
  {
   "cell_Type": "code",
   "execution_count": null,
   "id": "41a6d809-1266-4037-adf1-3b71c0b9e86f",
   "metadata": {},
   "outputs": [
    {
     "name": "stdout",
     "output_Type": "stream",
     "text": [
      "enter length for calculation 2.412\n",
      "enter width for calculation 2.412\n"
     ]
    },
    {
     "name": "stdout",
     "output_Type": "stream",
     "text": [
      "the area for triangle is: 5.817743999999999\n"
     ]
    }
   ],
   "source": [
    "#  Write a Python program to calculate the area of a rectangle. Use the formula:\n",
    "# 𝐴𝒓𝒆𝒂 = 𝒍𝒆𝒏𝒈𝒕𝒉 × 𝒘𝒊𝒅𝒕𝒉\n",
    "# Take length and width as inputs from the user./*\n",
    "length = float(input(\"enter length for calculation\"))\n",
    "width = float(input(\"enter width for calculation\"))\n",
    "def area_of_triangle():\n",
    "    area = length*width\n",
    "    print(f\"the area for triangle is: {area}\")\n",
    "area_of_triangle()\n"
   ]
  },
  {
   "cell_Type": "code",
   "execution_count": null,
   "id": "5c9aea8e-c119-4603-9549-694bd87849d2",
   "metadata": {},
   "outputs": [],
   "source": [
    "# COMPOUND INTREST \n",
    "# A=P*(1+R/N)**N-T\n",
    "p=float(input(\"Enter principle amount :\"))\n",
    "r=float(input(\"Enter rate of interest :\"))\n",
    "n=int(input(\"Enter number of time interest per year :\"))\n",
    "t=int(input(\"Enter time period in years :\"))\n",
    "# Calculating compound interest\n",
    "compound_intrest =p*(1+r/n)**n-t\n",
    "print(f\"the compound intrest for given data is {compound_intrest}:\")"
   ]
  }
 ],
 "metadata": {
  "kernelspec": {
   "display_name": "Python 3 (ipykernel)",
   "language": "python",
   "name": "python3"
  },
  "language_info": {
   "codemirror_mode": {
    "name": "ipython",
    "version": 3
   },
   "file_extension": ".py",
   "mimeType": "text/x-python",
   "name": "python",
   "nbconvert_exporter": "python",
   "pygments_lexer": "ipython3",
   "version": "3.12.7"
  }
 },
 "nbformat": 4,
 "nbformat_minor": 5
}
